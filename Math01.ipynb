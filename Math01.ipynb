{
  "nbformat": 4,
  "nbformat_minor": 0,
  "metadata": {
    "colab": {
      "name": "Math01.ipynb",
      "version": "0.3.2",
      "provenance": []
    },
    "kernelspec": {
      "name": "python3",
      "display_name": "Python 3"
    }
  },
  "cells": [
    {
      "cell_type": "markdown",
      "metadata": {
        "id": "view-in-github",
        "colab_type": "text"
      },
      "source": [
        "[View in Colaboratory](https://colab.research.google.com/github/zergxyz/Math/blob/master/Math01.ipynb)"
      ]
    },
    {
      "metadata": {
        "id": "UtQFR_J7N0Uy",
        "colab_type": "text"
      },
      "cell_type": "markdown",
      "source": [
        "# Math Foundation\n",
        "\n",
        "I will start posting math courses materials I learned from MIT including Linear Algebra and Probabilitic to here as my summaries and study notes. \n",
        "\n"
      ]
    },
    {
      "metadata": {
        "id": "0KQ3wirgNqEL",
        "colab_type": "code",
        "colab": {}
      },
      "cell_type": "code",
      "source": [
        ""
      ],
      "execution_count": 0,
      "outputs": []
    }
  ]
}