{
  "nbformat": 4,
  "nbformat_minor": 0,
  "metadata": {
    "colab": {
      "name": "Math01.ipynb",
      "version": "0.3.2",
      "provenance": []
    },
    "kernelspec": {
      "name": "python3",
      "display_name": "Python 3"
    }
  },
  "cells": [
    {
      "cell_type": "markdown",
      "metadata": {
        "id": "view-in-github",
        "colab_type": "text"
      },
      "source": [
        "[View in Colaboratory](https://colab.research.google.com/github/zergxyz/Math/blob/master/Math01.ipynb)"
      ]
    },
    {
      "metadata": {
        "id": "UtQFR_J7N0Uy",
        "colab_type": "text"
      },
      "cell_type": "markdown",
      "source": [
        "# Math Foundation\n",
        "\n",
        "I will start posting math courses materials I learned from MIT including Linear Algebra and Probabilitic to here as my summaries and study notes. \n",
        "\n"
      ]
    },
    {
      "metadata": {
        "id": "0KQ3wirgNqEL",
        "colab_type": "code",
        "colab": {
          "base_uri": "https://localhost:8080/",
          "height": 34
        },
        "outputId": "c1a501a4-3ba9-49a1-9ec2-609e46f5c407"
      },
      "cell_type": "code",
      "source": [
        "import torch\n",
        "print (torch.__version__)"
      ],
      "execution_count": 10,
      "outputs": [
        {
          "output_type": "stream",
          "text": [
            "0.4.0\n"
          ],
          "name": "stdout"
        }
      ]
    },
    {
      "metadata": {
        "id": "38uzgSCn3Qav",
        "colab_type": "code",
        "colab": {
          "base_uri": "https://localhost:8080/",
          "height": 119
        },
        "outputId": "2bef7092-ffb3-4985-f4f2-a3d7acfc095b"
      },
      "cell_type": "code",
      "source": [
        "x = torch.rand(5, 3)\n",
        "print (x)\n",
        "# get tensor size\n",
        "print (x.size())"
      ],
      "execution_count": 13,
      "outputs": [
        {
          "output_type": "stream",
          "text": [
            "tensor([[ 0.2822,  0.9859,  0.9427],\n",
            "        [ 0.3973,  0.1710,  0.0200],\n",
            "        [ 0.6361,  0.3410,  0.7570],\n",
            "        [ 0.8175,  0.7498,  0.6528],\n",
            "        [ 0.3108,  0.8126,  0.5849]])\n",
            "torch.Size([5, 3])\n"
          ],
          "name": "stdout"
        }
      ]
    },
    {
      "metadata": {
        "id": "maamAPpzwEa4",
        "colab_type": "code",
        "colab": {}
      },
      "cell_type": "code",
      "source": [
        ""
      ],
      "execution_count": 0,
      "outputs": []
    },
    {
      "metadata": {
        "id": "tiGLVdqI5ck3",
        "colab_type": "text"
      },
      "cell_type": "markdown",
      "source": [
        "Any operation that mutates a tensor in-place is post-fixed with an _. For example: x.copy_(y), x.t_(), will change x."
      ]
    },
    {
      "metadata": {
        "id": "HeMjO-Z95e8D",
        "colab_type": "code",
        "colab": {}
      },
      "cell_type": "code",
      "source": [
        ""
      ],
      "execution_count": 0,
      "outputs": []
    }
  ]
}