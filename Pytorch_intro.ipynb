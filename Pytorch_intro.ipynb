{
  "nbformat": 4,
  "nbformat_minor": 0,
  "metadata": {
    "colab": {
      "name": "Pytorch-intro.ipynb",
      "version": "0.3.2",
      "provenance": []
    },
    "kernelspec": {
      "name": "python3",
      "display_name": "Python 3"
    }
  },
  "cells": [
    {
      "cell_type": "markdown",
      "metadata": {
        "id": "view-in-github",
        "colab_type": "text"
      },
      "source": [
        "[View in Colaboratory](https://colab.research.google.com/github/zergxyz/Math/blob/master/Pytorch_intro.ipynb)"
      ]
    },
    {
      "metadata": {
        "id": "UtQFR_J7N0Uy",
        "colab_type": "text"
      },
      "cell_type": "markdown",
      "source": [
        "# Pytorch tutorials \n",
        "\n",
        "basic pytorch study notes and sample codes.\n",
        "\n"
      ]
    },
    {
      "metadata": {
        "id": "0KQ3wirgNqEL",
        "colab_type": "code",
        "colab": {
          "base_uri": "https://localhost:8080/",
          "height": 34
        },
        "outputId": "c1a501a4-3ba9-49a1-9ec2-609e46f5c407"
      },
      "cell_type": "code",
      "source": [
        "import torch\n",
        "print (torch.__version__)"
      ],
      "execution_count": 10,
      "outputs": [
        {
          "output_type": "stream",
          "text": [
            "0.4.0\n"
          ],
          "name": "stdout"
        }
      ]
    },
    {
      "metadata": {
        "id": "38uzgSCn3Qav",
        "colab_type": "code",
        "colab": {
          "base_uri": "https://localhost:8080/",
          "height": 136
        },
        "outputId": "c4caa169-f511-4cc4-9b99-e175de5ffcc5"
      },
      "cell_type": "code",
      "source": [
        "x = torch.rand(5, 3)\n",
        "print (x)\n",
        "# get tensor size\n",
        "print (x.size())\n",
        "# numpy like indexing\n",
        "print (x[:, 1])"
      ],
      "execution_count": 14,
      "outputs": [
        {
          "output_type": "stream",
          "text": [
            "tensor([[ 0.2630,  0.9373,  0.7582],\n",
            "        [ 0.4148,  0.9194,  0.3206],\n",
            "        [ 0.5635,  0.2413,  0.0574],\n",
            "        [ 0.1421,  0.2366,  0.6421],\n",
            "        [ 0.4724,  0.5589,  0.0209]])\n",
            "torch.Size([5, 3])\n",
            "tensor([ 0.9373,  0.9194,  0.2413,  0.2366,  0.5589])\n"
          ],
          "name": "stdout"
        }
      ]
    },
    {
      "metadata": {
        "id": "tiGLVdqI5ck3",
        "colab_type": "text"
      },
      "cell_type": "markdown",
      "source": [
        "Any operation that mutates a tensor in-place is post-fixed with an _. For example: x.copy_(y), x.t_(), will change x.\n",
        "\n",
        "You can resize the tensor by using following statements: "
      ]
    },
    {
      "metadata": {
        "id": "HeMjO-Z95e8D",
        "colab_type": "code",
        "colab": {
          "base_uri": "https://localhost:8080/",
          "height": 34
        },
        "outputId": "612fadac-a224-4f7c-b45a-a75355e0f93c"
      },
      "cell_type": "code",
      "source": [
        "x = torch.randn(4, 4)\n",
        "y = x.view(16)\n",
        "z = x.view(-1, 8)  # the size -1 is inferred from other dimensions\n",
        "print(x.size(), y.size(), z.size())"
      ],
      "execution_count": 15,
      "outputs": [
        {
          "output_type": "stream",
          "text": [
            "torch.Size([4, 4]) torch.Size([16]) torch.Size([2, 8])\n"
          ],
          "name": "stdout"
        }
      ]
    },
    {
      "metadata": {
        "id": "kAO7bynh61ho",
        "colab_type": "code",
        "colab": {}
      },
      "cell_type": "code",
      "source": [
        ""
      ],
      "execution_count": 0,
      "outputs": []
    }
  ]
}